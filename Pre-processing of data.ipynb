음원 파일을 비트단위로 나누는 것이 매우 어려운 상황이었습니다.
비트 단위로 나누는 대신 1초단위, 그리고 나머지 3초는 공백 데이터를 붙여서 모델이 수용할 수 있는 입력길이인 4초를 맞추기 위해서 한 음원파일을 1초씩, 총 4초에 한 데이터로 묶었습니다.

!pip install librosa

     
Requirement already satisfied: librosa in /usr/local/lib/python3.10/dist-packages (0.10.1)
Requirement already satisfied: audioread>=2.1.9 in /usr/local/lib/python3.10/dist-packages (from librosa) (3.0.1)
Requirement already satisfied: numpy!=1.22.0,!=1.22.1,!=1.22.2,>=1.20.3 in /usr/local/lib/python3.10/dist-packages (from librosa) (1.23.5)
Requirement already satisfied: scipy>=1.2.0 in /usr/local/lib/python3.10/dist-packages (from librosa) (1.11.4)
Requirement already satisfied: scikit-learn>=0.20.0 in /usr/local/lib/python3.10/dist-packages (from librosa) (1.2.2)
Requirement already satisfied: joblib>=0.14 in /usr/local/lib/python3.10/dist-packages (from librosa) (1.3.2)
Requirement already satisfied: decorator>=4.3.0 in /usr/local/lib/python3.10/dist-packages (from librosa) (4.4.2)
Requirement already satisfied: numba>=0.51.0 in /usr/local/lib/python3.10/dist-packages (from librosa) (0.58.1)
Requirement already satisfied: soundfile>=0.12.1 in /usr/local/lib/python3.10/dist-packages (from librosa) (0.12.1)
Requirement already satisfied: pooch>=1.0 in /usr/local/lib/python3.10/dist-packages (from librosa) (1.8.0)
Requirement already satisfied: soxr>=0.3.2 in /usr/local/lib/python3.10/dist-packages (from librosa) (0.3.7)
Requirement already satisfied: typing-extensions>=4.1.1 in /usr/local/lib/python3.10/dist-packages (from librosa) (4.5.0)
Requirement already satisfied: lazy-loader>=0.1 in /usr/local/lib/python3.10/dist-packages (from librosa) (0.3)
Requirement already satisfied: msgpack>=1.0 in /usr/local/lib/python3.10/dist-packages (from librosa) (1.0.7)
Requirement already satisfied: llvmlite<0.42,>=0.41.0dev0 in /usr/local/lib/python3.10/dist-packages (from numba>=0.51.0->librosa) (0.41.1)
Requirement already satisfied: platformdirs>=2.5.0 in /usr/local/lib/python3.10/dist-packages (from pooch>=1.0->librosa) (4.0.0)
Requirement already satisfied: packaging>=20.0 in /usr/local/lib/python3.10/dist-packages (from pooch>=1.0->librosa) (23.2)
Requirement already satisfied: requests>=2.19.0 in /usr/local/lib/python3.10/dist-packages (from pooch>=1.0->librosa) (2.31.0)
Requirement already satisfied: threadpoolctl>=2.0.0 in /usr/local/lib/python3.10/dist-packages (from scikit-learn>=0.20.0->librosa) (3.2.0)
Requirement already satisfied: cffi>=1.0 in /usr/local/lib/python3.10/dist-packages (from soundfile>=0.12.1->librosa) (1.16.0)
Requirement already satisfied: pycparser in /usr/local/lib/python3.10/dist-packages (from cffi>=1.0->soundfile>=0.12.1->librosa) (2.21)
Requirement already satisfied: charset-normalizer<4,>=2 in /usr/local/lib/python3.10/dist-packages (from requests>=2.19.0->pooch>=1.0->librosa) (3.3.2)
Requirement already satisfied: idna<4,>=2.5 in /usr/local/lib/python3.10/dist-packages (from requests>=2.19.0->pooch>=1.0->librosa) (3.6)
Requirement already satisfied: urllib3<3,>=1.21.1 in /usr/local/lib/python3.10/dist-packages (from requests>=2.19.0->pooch>=1.0->librosa) (2.0.7)
Requirement already satisfied: certifi>=2017.4.17 in /usr/local/lib/python3.10/dist-packages (from requests>=2.19.0->pooch>=1.0->librosa) (2023.11.17)

pip install SoundFile
     
Requirement already satisfied: SoundFile in /usr/local/lib/python3.10/dist-packages (0.12.1)
Requirement already satisfied: cffi>=1.0 in /usr/local/lib/python3.10/dist-packages (from SoundFile) (1.16.0)
Requirement already satisfied: pycparser in /usr/local/lib/python3.10/dist-packages (from cffi>=1.0->SoundFile) (2.21)
ERROR: Operation cancelled by user

from google.colab import drive
drive.mount('/content/drive')

     
Mounted at /content/drive

import librosa
import numpy as np
import os
import soundfile as sf
     

def create_dummy_wav(input_wav_path, output_wav_path, dummy_duration=3):
    # 음원 로드
    y, sr = librosa.load(input_wav_path, sr=None)

    # 1초 단위로 쪼갤 구간 길이
    segment_length = 1

    # 3초의 더미 데이터 생성
    dummy_data = np.zeros(int(sr * dummy_duration))

    # 결과를 저장할 디렉토리 생성
    os.makedirs(os.path.dirname(output_wav_path), exist_ok=True)

    # 음원을 1초 단위로 나누고 3초 더미 데이터를 붙여서 파일 생성
    for i, start_sample in enumerate(range(0, len(y), segment_length * sr)):
        end_sample = start_sample + segment_length * sr
        segment = y[start_sample:end_sample]

        # 3초 더미 데이터를 뒤에 붙이기
        extended_audio = np.concatenate([segment, dummy_data])

        # 파일로 저장
        sf.write(output_wav_path.format(i + 1), extended_audio, sr)

    print("작업 완료. 생성된 파일은", os.path.dirname(output_wav_path), "에 저장되었습니다.")

# 음원 파일 경로 설정
input_wav_path = '/content/drive/MyDrive/project/for_test/forest.wav'

# 결과를 저장할 디렉토리 및 파일 포맷 설정
output_directory = '/content/drive/MyDrive/project/forest_div'
output_wav_format = os.path.join(output_directory, 'segment_{}.wav')


# create_dummy_wav 함수 호출
create_dummy_wav(input_wav_path, output_wav_format)

     
<ipython-input-10-63f1fdca6b31>:3: UserWarning: PySoundFile failed. Trying audioread instead.
  y, sr = librosa.load(input_wav_path, sr=None)
/usr/local/lib/python3.10/dist-packages/librosa/core/audio.py:183: FutureWarning: librosa.core.audio.__audioread_load
	Deprecated as of librosa version 0.10.0.
	It will be removed in librosa version 1.0.
  y, sr_native = __audioread_load(path, offset, duration, dtype)
작업 완료. 생성된 파일은 /content/drive/MyDrive/project/forest_div 에 저장되었습니다.

# 기존에 저장된 파일들 삭제
existing_files = os.listdir(output_directory)
for existing_file in existing_files:
    file_path = os.path.join(output_directory, existing_file)
    os.remove(file_path)
     

pip show numba
     
Name: numba
Version: 0.58.1
Summary: compiling Python code using LLVM
Home-page: https://numba.pydata.org
Author: 
Author-email: 
License: BSD
Location: /usr/local/lib/python3.10/dist-packages
Requires: llvmlite, numpy
Required-by: librosa
