Tensorflow Magenta 에서 얻은 피아노의 스케일 데이터
하나하나 드라이브 디렉토리에 저장하여 전부 크로마그램으로 변환한 후, csv 파일에 저장하게끔 하는 코드입니다.

from google.colab import drive
drive.mount('/content/drive')
     
Mounted at /content/drive

import os
import re
import numpy as np
import librosa
from pathlib import Path
     

# wav 경로
drive_path = '/content/drive/MyDrive/project/for_test/spider.wav'
     

# 결과를 저장할 CSV 파일
output_csv_path = '/content/drive/My Drive/Colab Notebooks/contents/test_wav.csv'

     

# CSV 파일이 이미 존재하면 삭제
if os.path.exists(output_csv_path):
    os.remove(output_csv_path)
     

# 모든 .wav 파일에 대해 처리
for wav_file in Path(drive_path).rglob('*.wav'):
    # .wav 파일을 로드
    y, sr = librosa.load(wav_file, sr=None)

    # 크로마그램 생성
    chromagram = librosa.feature.chroma_stft(y=y, sr=sr)

    # 데이터의 범위 확인
    min_value = np.min(chromagram)
    max_value = np.max(chromagram)
    #정규화
    normalized_chromagram = (chromagram - min_value) / (max_value - min_value) * 255

    # 반올림 후 정수로 변환
    rounded_normalized_chromagram = np.around(normalized_chromagram).astype(int)

    # 크로마그램 이름 (파일 이름에서 숫자 부분 추출)
    chromagram_name = str(wav_file.stem)  # 문자열로 변환

    # 크로마그램 이름과 데이터를 행으로 저장
    data_to_save = np.concatenate(([chromagram_name], rounded_normalized_chromagram.flatten().astype(str)))

    # CSV 파일로 저장
    with open(output_csv_path, 'a') as f:
        np.savetxt(f, [data_to_save], delimiter=',', fmt='%s', newline='')
        f.write('\n')  # 새로운 행을 추가
     
<ipython-input-20-85bfc77ed180>:4: UserWarning: PySoundFile failed. Trying audioread instead.
  y, sr = librosa.load(wav_file, sr=None)
/usr/local/lib/python3.10/dist-packages/librosa/core/audio.py:183: FutureWarning: librosa.core.audio.__audioread_load
	Deprecated as of librosa version 0.10.0.
	It will be removed in librosa version 1.0.
  y, sr_native = __audioread_load(path, offset, duration, dtype)
<ipython-input-20-85bfc77ed180>:4: UserWarning: PySoundFile failed. Trying audioread instead.
  y, sr = librosa.load(wav_file, sr=None)
/usr/local/lib/python3.10/dist-packages/librosa/core/audio.py:183: FutureWarning: librosa.core.audio.__audioread_load
	Deprecated as of librosa version 0.10.0.
	It will be removed in librosa version 1.0.
  y, sr_native = __audioread_load(path, offset, duration, dtype)
<ipython-input-20-85bfc77ed180>:4: UserWarning: PySoundFile failed. Trying audioread instead.
  y, sr = librosa.load(wav_file, sr=None)
/usr/local/lib/python3.10/dist-packages/librosa/core/audio.py:183: FutureWarning: librosa.core.audio.__audioread_load
	Deprecated as of librosa version 0.10.0.
	It will be removed in librosa version 1.0.
  y, sr_native = __audioread_load(path, offset, duration, dtype)
<ipython-input-20-85bfc77ed180>:4: UserWarning: PySoundFile failed. Trying audioread instead.
  y, sr = librosa.load(wav_file, sr=None)
/usr/local/lib/python3.10/dist-packages/librosa/core/audio.py:183: FutureWarning: librosa.core.audio.__audioread_load
	Deprecated as of librosa version 0.10.0.
	It will be removed in librosa version 1.0.
  y, sr_native = __audioread_load(path, offset, duration, dtype)
<ipython-input-20-85bfc77ed180>:4: UserWarning: PySoundFile failed. Trying audioread instead.
  y, sr = librosa.load(wav_file, sr=None)
/usr/local/lib/python3.10/dist-packages/librosa/core/audio.py:183: FutureWarning: librosa.core.audio.__audioread_load
	Deprecated as of librosa version 0.10.0.
	It will be removed in librosa version 1.0.
  y, sr_native = __audioread_load(path, offset, duration, dtype)
<ipython-input-20-85bfc77ed180>:4: UserWarning: PySoundFile failed. Trying audioread instead.
  y, sr = librosa.load(wav_file, sr=None)
/usr/local/lib/python3.10/dist-packages/librosa/core/audio.py:183: FutureWarning: librosa.core.audio.__audioread_load
	Deprecated as of librosa version 0.10.0.
	It will be removed in librosa version 1.0.
  y, sr_native = __audioread_load(path, offset, duration, dtype)
<ipython-input-20-85bfc77ed180>:4: UserWarning: PySoundFile failed. Trying audioread instead.
  y, sr = librosa.load(wav_file, sr=None)
/usr/local/lib/python3.10/dist-packages/librosa/core/audio.py:183: FutureWarning: librosa.core.audio.__audioread_load
	Deprecated as of librosa version 0.10.0.
	It will be removed in librosa version 1.0.
  y, sr_native = __audioread_load(path, offset, duration, dtype)
